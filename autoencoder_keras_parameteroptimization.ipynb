{
 "cells": [
  {
   "cell_type": "markdown",
   "metadata": {},
   "source": [
    "# Hyperparameter tuning of the autoencoder"
   ]
  },
  {
   "cell_type": "markdown",
   "metadata": {},
   "source": [
    "We will find the best parameters for our dense layer model architecture by trying some values out. For grid search, a gpu would have been necessary."
   ]
  },
  {
   "cell_type": "code",
   "execution_count": 1,
   "metadata": {},
   "outputs": [],
   "source": [
    "import tensorflow as tf\n",
    "import numpy as np\n",
    "import matplotlib.pyplot as plt\n",
    "from tensorflow import keras\n",
    "layers = keras.layers\n",
    "\n",
    "#importing the data\n",
    "gen = np.loadtxt(\"qcs_gen10000.txt\", delimiter=\",\")\n",
    "\n",
    "#splitting data into train and test set\n",
    "from sklearn.model_selection import train_test_split\n",
    "train, test = train_test_split(gen, test_size=0.2, random_state=42, shuffle=True, stratify=None)\n",
    "\n",
    "mean_train = np.mean(train, axis=1, dtype=np.float64)\n",
    "mean_test = np.mean(test, axis=1, dtype=np.float64)\n",
    "stddev_train = np.std(train, axis=1, dtype=np.float64)\n",
    "stddev_test = np.std(test, axis=1, dtype=np.float64)\n",
    "\n",
    "#standard scaling the training data\n",
    "def standard_scale(X, m, s):\n",
    "    return (X-m)/s\n",
    "\n",
    "def rescale(X, m, s):\n",
    "    return X*s+m\n",
    "\n",
    "train = np.array([standard_scale(train[i], mean_train[i], stddev_train[i]) for i in range(len(train))])\n",
    "test_scaled = np.array([standard_scale(test[i], mean_test[i], stddev_test[i]) for i in range(len(test))])"
   ]
  },
  {
   "cell_type": "markdown",
   "metadata": {},
   "source": [
    "Defining the model:"
   ]
  },
  {
   "cell_type": "code",
   "execution_count": 2,
   "metadata": {},
   "outputs": [],
   "source": [
    "#https://machinelearningmastery.com/grid-search-hyperparameters-deep-learning-models-python-keras/ provides an explaination \n",
    "\n",
    "def create_model(activation,neurons,dropout_rate):\n",
    "    inputlayer = layers.Input(shape=train.shape[1])\n",
    "    e2 = layers.Dense(500, activation=activation)(inputlayer)\n",
    "    e3 = layers.Dense(250, activation=activation)(e2)\n",
    "    dropout = layers.Dropout(dropout_rate)(e3)\n",
    "    e4 = layers.Dense(100)(dropout)\n",
    "\n",
    "    encoded = layers.Dense(neurons)(e4)\n",
    "\n",
    "    d1 = layers.Dense(100, activation=activation)(encoded)\n",
    "    d2 = layers.Dense(250, activation=activation)(d1)\n",
    "    d3 = layers.Dense(500, activation=activation)(d2)\n",
    "    outputlayer = layers.Dense(1101, activation=activation)(d3)\n",
    "\n",
    "    model = keras.models.Model(inputlayer, outputlayer, name=\"autoencoder_dense_v1\")\n",
    "\n",
    "    model.compile(optimizer=keras.optimizers.Adam(), loss='mse')\n",
    "    return model"
   ]
  },
  {
   "cell_type": "markdown",
   "metadata": {},
   "source": [
    "Fitting the model:"
   ]
  },
  {
   "cell_type": "markdown",
   "metadata": {},
   "source": [
    "Which parameters do affect the model's performance significantly? Those will then after be optimized in grid search"
   ]
  },
  {
   "cell_type": "markdown",
   "metadata": {},
   "source": [
    "1.) Checking for the batch size impact (by choosing extreme values, while keeping the rest normal)"
   ]
  },
  {
   "cell_type": "code",
   "execution_count": 8,
   "metadata": {},
   "outputs": [
    {
     "name": "stdout",
     "output_type": "stream",
     "text": [
      "\n",
      "Epoch 00003: ReduceLROnPlateau reducing learning rate to 0.0006700000318232924.\n",
      "\n",
      "Epoch 00005: ReduceLROnPlateau reducing learning rate to 0.0004489000252215192.\n",
      "\n",
      "Epoch 00007: ReduceLROnPlateau reducing learning rate to 0.0003007630087086.\n",
      "\n",
      "Epoch 00009: ReduceLROnPlateau reducing learning rate to 0.0002015112101798877.\n",
      "\n",
      "Epoch 00011: ReduceLROnPlateau reducing learning rate to 0.00013501251160050743.\n",
      "\n",
      "Epoch 00013: ReduceLROnPlateau reducing learning rate to 9.04583813098725e-05.\n",
      "\n",
      "Epoch 00015: ReduceLROnPlateau reducing learning rate to 6.060711421014276e-05.\n",
      "\n",
      "Epoch 00017: ReduceLROnPlateau reducing learning rate to 4.060676725202939e-05.\n",
      "\n",
      "Epoch 00020: ReduceLROnPlateau reducing learning rate to 2.720653359574499e-05.\n",
      "\n",
      "Epoch 00022: ReduceLROnPlateau reducing learning rate to 1.8228377484774683e-05.\n",
      "\n",
      "Epoch 00024: ReduceLROnPlateau reducing learning rate to 1.2213012305437588e-05.\n",
      "\n",
      "Epoch 00026: ReduceLROnPlateau reducing learning rate to 8.182718220268725e-06.\n",
      "\n",
      "Epoch 00028: ReduceLROnPlateau reducing learning rate to 5.482421311171493e-06.\n",
      "Epoch 00029: early stopping\n",
      "\n",
      "Epoch 00003: ReduceLROnPlateau reducing learning rate to 3.673222290672129e-06.\n",
      "\n",
      "Epoch 00005: ReduceLROnPlateau reducing learning rate to 2.4610588616269524e-06.\n",
      "\n",
      "Epoch 00007: ReduceLROnPlateau reducing learning rate to 1.648909385494335e-06.\n",
      "\n",
      "Epoch 00009: ReduceLROnPlateau reducing learning rate to 1.1047692623833428e-06.\n",
      "Epoch 00010: early stopping\n",
      "\n",
      "Epoch 00003: ReduceLROnPlateau reducing learning rate to 7.401953905628034e-07.\n",
      "Epoch 00004: early stopping\n",
      "Val_loss with batch size 32: 0.4371951675415039\n",
      "Val_loss with batch size 128: 0.43719440937042237\n",
      "Val_loss with batch size 256: 0.43719438552856443\n"
     ]
    }
   ],
   "source": [
    "const_activation = 'tanh'\n",
    "const_drop = 0\n",
    "const_neurons = 50\n",
    "\n",
    "model_var_bs = create_model(const_activation, const_neurons,  const_drop)\n",
    "\n",
    "earlystopping = keras.callbacks.EarlyStopping(monitor='val_loss', patience=2, verbose=1)\n",
    "rl_on_plateau= keras.callbacks.ReduceLROnPlateau(monitor='val_loss', factor=0.67, patience=2,\n",
    "                                                 verbose=1, min_lr=1e-7)\n",
    "def fit_model(model, batch_size, verbose):\n",
    "    results = model.fit(train, train,\n",
    "                        epochs=50,\n",
    "                        batch_size=batch_size,\n",
    "                        validation_split=0.1,\n",
    "                        verbose=verbose,\n",
    "                        callbacks=[earlystopping, rl_on_plateau])\n",
    "    return results\n",
    "\n",
    "results32 = fit_model(model_var_bs, 32, 0)\n",
    "results128 = fit_model(model_var_bs, 128, 0)\n",
    "results256 = fit_model(model_var_bs, 256, 0)\n",
    "\n",
    "#Comparing the validation loss\n",
    "print(\"Val_loss with batch size 32:\", results32.history['val_loss'][-1])\n",
    "print(\"Val_loss with batch size 128:\", results128.history['val_loss'][-1])\n",
    "print(\"Val_loss with batch size 256:\", results256.history['val_loss'][-1])"
   ]
  },
  {
   "cell_type": "markdown",
   "metadata": {},
   "source": [
    "2.) Checking for the activation function impact (we try out tanh, relu with last activation=linear, and elu)"
   ]
  },
  {
   "cell_type": "code",
   "execution_count": 11,
   "metadata": {},
   "outputs": [
    {
     "name": "stdout",
     "output_type": "stream",
     "text": [
      "\n",
      "Epoch 00004: ReduceLROnPlateau reducing learning rate to 0.0006700000318232924.\n",
      "\n",
      "Epoch 00006: ReduceLROnPlateau reducing learning rate to 0.0004489000252215192.\n",
      "\n",
      "Epoch 00008: ReduceLROnPlateau reducing learning rate to 0.0003007630087086.\n",
      "\n",
      "Epoch 00010: ReduceLROnPlateau reducing learning rate to 0.0002015112101798877.\n",
      "\n",
      "Epoch 00012: ReduceLROnPlateau reducing learning rate to 0.00013501251160050743.\n",
      "\n",
      "Epoch 00014: ReduceLROnPlateau reducing learning rate to 9.04583813098725e-05.\n",
      "\n",
      "Epoch 00016: ReduceLROnPlateau reducing learning rate to 6.060711421014276e-05.\n",
      "\n",
      "Epoch 00018: ReduceLROnPlateau reducing learning rate to 4.060676725202939e-05.\n",
      "\n",
      "Epoch 00020: ReduceLROnPlateau reducing learning rate to 2.720653359574499e-05.\n",
      "\n",
      "Epoch 00022: ReduceLROnPlateau reducing learning rate to 1.8228377484774683e-05.\n",
      "\n",
      "Epoch 00024: ReduceLROnPlateau reducing learning rate to 1.2213012305437588e-05.\n",
      "\n",
      "Epoch 00026: ReduceLROnPlateau reducing learning rate to 8.182718220268725e-06.\n",
      "Epoch 00027: early stopping\n",
      "\n",
      "Epoch 00004: ReduceLROnPlateau reducing learning rate to 0.0006700000318232924.\n",
      "\n",
      "Epoch 00006: ReduceLROnPlateau reducing learning rate to 0.0004489000252215192.\n",
      "\n",
      "Epoch 00008: ReduceLROnPlateau reducing learning rate to 0.0003007630087086.\n",
      "\n",
      "Epoch 00010: ReduceLROnPlateau reducing learning rate to 0.0002015112101798877.\n",
      "\n",
      "Epoch 00012: ReduceLROnPlateau reducing learning rate to 0.00013501251160050743.\n",
      "\n",
      "Epoch 00014: ReduceLROnPlateau reducing learning rate to 9.04583813098725e-05.\n",
      "\n",
      "Epoch 00016: ReduceLROnPlateau reducing learning rate to 6.060711421014276e-05.\n",
      "\n",
      "Epoch 00018: ReduceLROnPlateau reducing learning rate to 4.060676725202939e-05.\n",
      "\n",
      "Epoch 00020: ReduceLROnPlateau reducing learning rate to 2.720653359574499e-05.\n",
      "\n",
      "Epoch 00022: ReduceLROnPlateau reducing learning rate to 1.8228377484774683e-05.\n",
      "\n",
      "Epoch 00024: ReduceLROnPlateau reducing learning rate to 1.2213012305437588e-05.\n",
      "\n",
      "Epoch 00026: ReduceLROnPlateau reducing learning rate to 8.182718220268725e-06.\n",
      "\n",
      "Epoch 00028: ReduceLROnPlateau reducing learning rate to 5.482421311171493e-06.\n",
      "Epoch 00028: early stopping\n",
      "\n",
      "Epoch 00004: ReduceLROnPlateau reducing learning rate to 0.0006700000318232924.\n",
      "\n",
      "Epoch 00006: ReduceLROnPlateau reducing learning rate to 0.0004489000252215192.\n",
      "\n",
      "Epoch 00008: ReduceLROnPlateau reducing learning rate to 0.0003007630087086.\n",
      "\n",
      "Epoch 00010: ReduceLROnPlateau reducing learning rate to 0.0002015112101798877.\n",
      "\n",
      "Epoch 00012: ReduceLROnPlateau reducing learning rate to 0.00013501251160050743.\n",
      "\n",
      "Epoch 00014: ReduceLROnPlateau reducing learning rate to 9.04583813098725e-05.\n",
      "\n",
      "Epoch 00016: ReduceLROnPlateau reducing learning rate to 6.060711421014276e-05.\n",
      "\n",
      "Epoch 00018: ReduceLROnPlateau reducing learning rate to 4.060676725202939e-05.\n",
      "Epoch 00018: early stopping\n",
      "Val_loss with tanh: 0.43726702928543093\n",
      "Val_loss with elu: 0.00010671236959751696\n",
      "Val_loss with relu and linear: 0.00010903983755270019\n"
     ]
    }
   ],
   "source": [
    "const_bs = 128\n",
    "model_tanh = create_model(\"tanh\", const_neurons,  const_drop)\n",
    "model_elu = create_model(\"elu\", const_neurons, const_drop)\n",
    "\n",
    "#special model with mixed relu and linear\n",
    "inputlayer = layers.Input(shape=train.shape[1])\n",
    "e2 = layers.Dense(500, activation=\"relu\")(inputlayer)\n",
    "e3 = layers.Dense(250, activation=\"relu\")(e2)\n",
    "e4 = layers.Dense(100)(e3)\n",
    "encoded = layers.Dense(50)(e4)\n",
    "d1 = layers.Dense(100, activation=\"relu\")(encoded)\n",
    "d2 = layers.Dense(250, activation=\"relu\")(d1)\n",
    "d3 = layers.Dense(500, activation=\"relu\")(d2)\n",
    "outputlayer = layers.Dense(1101, activation=\"linear\")(d3)\n",
    "model_relu = keras.models.Model(inputlayer, outputlayer, name=\"autoencoder_dense_v1\")\n",
    "model_relu.compile(optimizer=keras.optimizers.Adam(), loss='mse')\n",
    "\n",
    "\n",
    "results_tanh = fit_model(model_tanh, const_bs, 0)\n",
    "results_elu = fit_model(model_elu, const_bs, 0)\n",
    "results_relu = fit_model(model_relu, const_bs, 0)\n",
    "\n",
    "#Comparing the validation loss\n",
    "print(\"Val_loss with tanh:\", results_tanh.history['val_loss'][-1])\n",
    "print(\"Val_loss with elu:\", results_elu.history['val_loss'][-1])\n",
    "print(\"Val_loss with relu and linear:\", results_relu.history['val_loss'][-1])"
   ]
  },
  {
   "cell_type": "markdown",
   "metadata": {},
   "source": [
    "We see hat elu performs best (similar to relu with linear). Therefore we take elu for the next parameters. Now we want to see if more or fewer neurons work better"
   ]
  },
  {
   "cell_type": "code",
   "execution_count": 21,
   "metadata": {},
   "outputs": [
    {
     "name": "stdout",
     "output_type": "stream",
     "text": [
      "\n",
      "Epoch 00004: ReduceLROnPlateau reducing learning rate to 0.0006700000318232924.\n",
      "\n",
      "Epoch 00006: ReduceLROnPlateau reducing learning rate to 0.0004489000252215192.\n",
      "\n",
      "Epoch 00008: ReduceLROnPlateau reducing learning rate to 0.0003007630087086.\n",
      "\n",
      "Epoch 00010: ReduceLROnPlateau reducing learning rate to 0.0002015112101798877.\n",
      "Epoch 00011: early stopping\n",
      "\n",
      "Epoch 00004: ReduceLROnPlateau reducing learning rate to 0.0006700000318232924.\n",
      "\n",
      "Epoch 00006: ReduceLROnPlateau reducing learning rate to 0.0004489000252215192.\n",
      "\n",
      "Epoch 00008: ReduceLROnPlateau reducing learning rate to 0.0003007630087086.\n",
      "\n",
      "Epoch 00010: ReduceLROnPlateau reducing learning rate to 0.0002015112101798877.\n",
      "\n",
      "Epoch 00012: ReduceLROnPlateau reducing learning rate to 0.00013501251160050743.\n",
      "\n",
      "Epoch 00014: ReduceLROnPlateau reducing learning rate to 9.04583813098725e-05.\n",
      "\n",
      "Epoch 00016: ReduceLROnPlateau reducing learning rate to 6.060711421014276e-05.\n",
      "Epoch 00016: early stopping\n",
      "\n",
      "Epoch 00005: ReduceLROnPlateau reducing learning rate to 0.0006700000318232924.\n",
      "\n",
      "Epoch 00007: ReduceLROnPlateau reducing learning rate to 0.0004489000252215192.\n",
      "\n",
      "Epoch 00009: ReduceLROnPlateau reducing learning rate to 0.0003007630087086.\n",
      "\n",
      "Epoch 00011: ReduceLROnPlateau reducing learning rate to 0.0002015112101798877.\n",
      "Epoch 00011: early stopping\n",
      "\n",
      "Epoch 00004: ReduceLROnPlateau reducing learning rate to 0.0006700000318232924.\n",
      "\n",
      "Epoch 00006: ReduceLROnPlateau reducing learning rate to 0.0004489000252215192.\n",
      "\n",
      "Epoch 00008: ReduceLROnPlateau reducing learning rate to 0.0003007630087086.\n",
      "Epoch 00009: early stopping\n",
      "\n",
      "Epoch 00004: ReduceLROnPlateau reducing learning rate to 0.0006700000318232924.\n",
      "Epoch 00005: early stopping\n",
      "Val_loss with 2 neurons: 0.00010930380667559803\n",
      "Val_loss with 10 neurons: 0.00010828426806256175\n",
      "Val_loss with 25 neurons: 0.00010824832395883277\n",
      "Val_loss with 50 neurons: 0.00010777310322737321\n",
      "Val_loss with 100 neurons: 0.0001095503306714818\n"
     ]
    },
    {
     "data": {
      "text/plain": [
       "Text(0.5, 1.0, 'Performance of model for different latent space neurons')"
      ]
     },
     "execution_count": 21,
     "metadata": {},
     "output_type": "execute_result"
    },
    {
     "data": {
      "image/png": "[encoded data removed]",
      "text/plain": [
       "<Figure size 432x288 with 1 Axes>"
      ]
     },
     "metadata": {
      "needs_background": "light"
     },
     "output_type": "display_data"
    }
   ],
   "source": [
    "model_neurons_2 = create_model(\"elu\", 2, 0)\n",
    "model_neurons_10 = create_model(\"elu\", 10, 0)\n",
    "model_neurons_25 = create_model(\"elu\", 25, 0)\n",
    "model_neurons_50 = create_model(\"elu\", 50, 0)\n",
    "model_neurons_100 = create_model(\"elu\", 100, 0)\n",
    "\n",
    "models_neurons = {model_neurons_2: 2, model_neurons_10: 10, model_neurons_25: 25, \n",
    "                  model_neurons_50: 50, model_neurons_100: 100}\n",
    "results = {}\n",
    "\n",
    "#training the models\n",
    "for model_name, n in models_neurons.items():\n",
    "    result = fit_model(model_name, 128, 0)\n",
    "    results[model_name] = result\n",
    "\n",
    "#printing the validation losses for the models\n",
    "for model_name, n in models_neurons.items():\n",
    "    print(f\"Val_loss with {n} neurons:\", results[model_name].history['val_loss'][-1])\n",
    "\n",
    "\n",
    "\n",
    "#plotting the val_loss for different neurons \n",
    "plt.plot(list(models_neurons.values()), [results[model_name].history['val_loss'][-1] for model_name in results.keys()], 'ro')\n",
    "plt.ylabel(\"Val_loss\")\n",
    "plt.xlabel(\"neurons\")\n",
    "plt.title(\"Performance of model for different latent space neurons\")"
   ]
  },
  {
   "cell_type": "markdown",
   "metadata": {},
   "source": [
    "It seems like the model with 50 neurons performs best. Lastly, we want to see if a dropout layer in the model can improve its performance."
   ]
  },
  {
   "cell_type": "code",
   "execution_count": 23,
   "metadata": {},
   "outputs": [
    {
     "name": "stdout",
     "output_type": "stream",
     "text": [
      "WARNING:tensorflow:Large dropout rate: 0.8 (>0.5). In TensorFlow 2.x, dropout() uses dropout rate instead of keep_prob. Please ensure that this is intended.\n",
      "\n",
      "Epoch 00004: ReduceLROnPlateau reducing learning rate to 0.0006700000318232924.\n",
      "\n",
      "Epoch 00006: ReduceLROnPlateau reducing learning rate to 0.0004489000252215192.\n",
      "\n",
      "Epoch 00008: ReduceLROnPlateau reducing learning rate to 0.0003007630087086.\n",
      "\n",
      "Epoch 00010: ReduceLROnPlateau reducing learning rate to 0.0002015112101798877.\n",
      "\n",
      "Epoch 00012: ReduceLROnPlateau reducing learning rate to 0.00013501251160050743.\n",
      "\n",
      "Epoch 00014: ReduceLROnPlateau reducing learning rate to 9.04583813098725e-05.\n",
      "\n",
      "Epoch 00016: ReduceLROnPlateau reducing learning rate to 6.060711421014276e-05.\n",
      "\n",
      "Epoch 00018: ReduceLROnPlateau reducing learning rate to 4.060676725202939e-05.\n",
      "\n",
      "Epoch 00020: ReduceLROnPlateau reducing learning rate to 2.720653359574499e-05.\n",
      "\n",
      "Epoch 00022: ReduceLROnPlateau reducing learning rate to 1.8228377484774683e-05.\n",
      "\n",
      "Epoch 00024: ReduceLROnPlateau reducing learning rate to 1.2213012305437588e-05.\n",
      "\n",
      "Epoch 00026: ReduceLROnPlateau reducing learning rate to 8.182718220268725e-06.\n",
      "\n",
      "Epoch 00028: ReduceLROnPlateau reducing learning rate to 5.482421311171493e-06.\n",
      "\n",
      "Epoch 00030: ReduceLROnPlateau reducing learning rate to 3.673222290672129e-06.\n",
      "\n",
      "Epoch 00032: ReduceLROnPlateau reducing learning rate to 2.4610588616269524e-06.\n",
      "\n",
      "Epoch 00034: ReduceLROnPlateau reducing learning rate to 1.648909385494335e-06.\n",
      "\n",
      "Epoch 00036: ReduceLROnPlateau reducing learning rate to 1.1047692623833428e-06.\n",
      "\n",
      "Epoch 00038: ReduceLROnPlateau reducing learning rate to 7.401953905628034e-07.\n",
      "\n",
      "Epoch 00040: ReduceLROnPlateau reducing learning rate to 4.959309109153764e-07.\n",
      "\n",
      "Epoch 00042: ReduceLROnPlateau reducing learning rate to 3.3227371602606583e-07.\n",
      "Epoch 00042: early stopping\n",
      "\n",
      "Epoch 00004: ReduceLROnPlateau reducing learning rate to 0.0006700000318232924.\n",
      "\n",
      "Epoch 00006: ReduceLROnPlateau reducing learning rate to 0.0004489000252215192.\n",
      "Epoch 00007: early stopping\n",
      "\n",
      "Epoch 00004: ReduceLROnPlateau reducing learning rate to 0.0006700000318232924.\n",
      "\n",
      "Epoch 00006: ReduceLROnPlateau reducing learning rate to 0.0004489000252215192.\n",
      "Epoch 00007: early stopping\n",
      "\n",
      "Epoch 00005: ReduceLROnPlateau reducing learning rate to 0.0006700000318232924.\n",
      "\n",
      "Epoch 00007: ReduceLROnPlateau reducing learning rate to 0.0004489000252215192.\n",
      "\n",
      "Epoch 00009: ReduceLROnPlateau reducing learning rate to 0.0003007630087086.\n",
      "\n",
      "Epoch 00011: ReduceLROnPlateau reducing learning rate to 0.0002015112101798877.\n",
      "\n",
      "Epoch 00013: ReduceLROnPlateau reducing learning rate to 0.00013501251160050743.\n",
      "\n",
      "Epoch 00015: ReduceLROnPlateau reducing learning rate to 9.04583813098725e-05.\n",
      "\n",
      "Epoch 00017: ReduceLROnPlateau reducing learning rate to 6.060711421014276e-05.\n",
      "Epoch 00017: early stopping\n",
      "Val_loss with 0% dropout rate: 0.00010549005877692252\n",
      "Val_loss with 10.0% dropout rate: 0.00012050992052536457\n",
      "Val_loss with 30.0% dropout rate: 0.00012944667367264628\n",
      "Val_loss with 80.0% dropout rate: 0.00011758754961192608\n"
     ]
    },
    {
     "data": {
      "text/plain": [
       "Text(0.5, 1.0, 'Performance of model for different dropout rates')"
      ]
     },
     "execution_count": 23,
     "metadata": {},
     "output_type": "execute_result"
    },
    {
     "data": {
      "image/png": "[encoded data removed]",
      "text/plain": [
       "<Figure size 432x288 with 1 Axes>"
      ]
     },
     "metadata": {
      "needs_background": "light"
     },
     "output_type": "display_data"
    }
   ],
   "source": [
    "model_dropout_0 = create_model(\"elu\", 50, 0)\n",
    "model_dropout_10 = create_model(\"elu\", 50, 0.1)\n",
    "model_dropout_30 = create_model(\"elu\", 50, 0.3)\n",
    "model_dropout_80 = create_model(\"elu\", 50, 0.8)\n",
    "\n",
    "models_dropouts = {model_dropout_0: 0, \n",
    "                   model_dropout_10: 0.1, \n",
    "                   model_dropout_30: 0.3, \n",
    "                   model_dropout_80: 0.8}\n",
    "results = {}\n",
    "\n",
    "#training the models\n",
    "for model_name, n in models_dropouts.items():\n",
    "    result = fit_model(model_name, 128, 0)\n",
    "    results[model_name] = result\n",
    "\n",
    "#printing the validation losses for the models\n",
    "for model_name, n in models_dropouts.items():\n",
    "    print(f\"Val_loss with {n*100}% dropout rate:\", results[model_name].history['val_loss'][-1])\n",
    "\n",
    "\n",
    "\n",
    "#plotting the val_loss for different neurons \n",
    "plt.plot(list(models_dropouts.values()), [results[model_name].history['val_loss'][-1] for model_name in results.keys()], 'ro')\n",
    "plt.ylabel(\"Val_loss\")\n",
    "plt.xlabel(\"dropout rate\")\n",
    "plt.title(\"Performance of model for different dropout rates\")"
   ]
  },
  {
   "cell_type": "markdown",
   "metadata": {},
   "source": [
    "Apparently dropout doesn't help the model. It seems like it doesn't have much influence, because the order of magnitude of the validation losses is the same for every model. "
   ]
  },
  {
   "cell_type": "markdown",
   "metadata": {},
   "source": [
    "Grid search was tried but unfortunately didn't work due to the non sufficient working memory in the computer:"
   ]
  },
  {
   "cell_type": "code",
   "execution_count": 6,
   "metadata": {},
   "outputs": [],
   "source": [
    "#https://scikit-learn.org/stable/modules/generated/sklearn.model_selection.GridSearchCV.html\n",
    "from sklearn.model_selection import GridSearchCV\n",
    "\n",
    "\n",
    "\n",
    "batch_size = [128, 256]\n",
    "#learn_rates = [1e-7, 1e-6, 1e-5, 1e-4, 0.001, 0.01, 0.1]\n",
    "activations = ['relu', 'tanh']\n",
    "grid_neurons = [2, 10, 25, 50]\n",
    "      \n",
    "param_grid = {'activation':activations,\n",
    "             'neurons': grid_neurons,\n",
    "             'batch_size': batch_size}\n",
    "    \n",
    "from tensorflow.keras.wrappers.scikit_learn import KerasClassifier, KerasRegressor\n",
    "#https://www.adriangb.com/scikeras/stable/generated/scikeras.wrappers.KerasClassifier.html#scikeras.wrappers.KerasClassifier\n",
    "model = KerasRegressor(build_fn=create_model, epochs=50,  verbose=0)"
   ]
  },
  {
   "cell_type": "code",
   "execution_count": 7,
   "metadata": {
    "scrolled": false
   },
   "outputs": [],
   "source": [
    "model_gridsearch = GridSearchCV(estimator=model, param_grid=param_grid, scoring=None, n_jobs=-1, \n",
    "                                refit=True, cv=None, pre_dispatch = '1*n_jobs',verbose=2,\n",
    "                                return_train_score=True)"
   ]
  },
  {
   "cell_type": "code",
   "execution_count": 8,
   "metadata": {},
   "outputs": [
    {
     "name": "stderr",
     "output_type": "stream",
     "text": [
      "C:\\ProgramData\\Anaconda3\\lib\\site-packages\\sklearn\\model_selection\\_split.py:1978: FutureWarning: The default value of cv will change from 3 to 5 in version 0.22. Specify it explicitly to silence this warning.\n",
      "  warnings.warn(CV_WARNING, FutureWarning)\n",
      "[Parallel(n_jobs=-1)]: Using backend LokyBackend with 6 concurrent workers.\n"
     ]
    },
    {
     "name": "stdout",
     "output_type": "stream",
     "text": [
      "Fitting 3 folds for each of 16 candidates, totalling 48 fits\n"
     ]
    },
    {
     "name": "stderr",
     "output_type": "stream",
     "text": [
      "C:\\ProgramData\\Anaconda3\\lib\\site-packages\\joblib\\externals\\loky\\process_executor.py:706: UserWarning: A worker stopped while some jobs were given to the executor. This can be caused by a too short worker timeout or by a memory leak.\n",
      "  \"timeout or by a memory leak.\", UserWarning\n",
      "[Parallel(n_jobs=-1)]: Done  35 tasks      | elapsed:  9.9min\n",
      "[Parallel(n_jobs=-1)]: Done  48 out of  48 | elapsed: 12.6min finished\n",
      "C:\\ProgramData\\Anaconda3\\lib\\site-packages\\joblib\\disk.py:122: UserWarning: Unable to delete folder C:\\Users\\CORINN~1.WEG\\AppData\\Local\\Temp\\joblib_memmapping_folder_12612_6894980160 after 5 tentatives.\n",
      "  .format(folder_path, RM_SUBDIRS_N_RETRY))\n"
     ]
    },
    {
     "ename": "PermissionError",
     "evalue": "[WinError 32] The process cannot access the file because it is being used by another process: 'C:\\\\Users\\\\CORINN~1.WEG\\\\AppData\\\\Local\\\\Temp\\\\joblib_memmapping_folder_12612_6894980160\\\\12612-1751341378920-8ee34330cf3b47b183764aceafcbc26c.pkl'",
     "output_type": "error",
     "traceback": [
      "\u001b[1;31m---------------------------------------------------------------------------\u001b[0m",
      "\u001b[1;31mPermissionError\u001b[0m                           Traceback (most recent call last)",
      "\u001b[1;32m<ipython-input-8-23e13bcb0121>\u001b[0m in \u001b[0;36m<module>\u001b[1;34m\u001b[0m\n\u001b[1;32m----> 1\u001b[1;33m \u001b[0mresults\u001b[0m \u001b[1;33m=\u001b[0m \u001b[0mmodel_gridsearch\u001b[0m\u001b[1;33m.\u001b[0m\u001b[0mfit\u001b[0m\u001b[1;33m(\u001b[0m\u001b[0mtrain\u001b[0m\u001b[1;33m,\u001b[0m\u001b[0mtrain\u001b[0m\u001b[1;33m,\u001b[0m\u001b[0mepochs\u001b[0m\u001b[1;33m=\u001b[0m\u001b[1;36m50\u001b[0m\u001b[1;33m,\u001b[0m\u001b[0mvalidation_split\u001b[0m\u001b[1;33m=\u001b[0m\u001b[1;36m0.1\u001b[0m\u001b[1;33m,\u001b[0m \u001b[0mverbose\u001b[0m\u001b[1;33m=\u001b[0m\u001b[1;36m1\u001b[0m\u001b[1;33m)\u001b[0m\u001b[1;33m\u001b[0m\u001b[1;33m\u001b[0m\u001b[0m\n\u001b[0m",
      "\u001b[1;32mC:\\ProgramData\\Anaconda3\\lib\\site-packages\\sklearn\\model_selection\\_search.py\u001b[0m in \u001b[0;36mfit\u001b[1;34m(self, X, y, groups, **fit_params)\u001b[0m\n\u001b[0;32m    685\u001b[0m                 \u001b[1;32mreturn\u001b[0m \u001b[0mresults\u001b[0m\u001b[1;33m\u001b[0m\u001b[1;33m\u001b[0m\u001b[0m\n\u001b[0;32m    686\u001b[0m \u001b[1;33m\u001b[0m\u001b[0m\n\u001b[1;32m--> 687\u001b[1;33m             \u001b[0mself\u001b[0m\u001b[1;33m.\u001b[0m\u001b[0m_run_search\u001b[0m\u001b[1;33m(\u001b[0m\u001b[0mevaluate_candidates\u001b[0m\u001b[1;33m)\u001b[0m\u001b[1;33m\u001b[0m\u001b[1;33m\u001b[0m\u001b[0m\n\u001b[0m\u001b[0;32m    688\u001b[0m \u001b[1;33m\u001b[0m\u001b[0m\n\u001b[0;32m    689\u001b[0m         \u001b[1;31m# For multi-metric evaluation, store the best_index_, best_params_ and\u001b[0m\u001b[1;33m\u001b[0m\u001b[1;33m\u001b[0m\u001b[1;33m\u001b[0m\u001b[0m\n",
      "\u001b[1;32mC:\\ProgramData\\Anaconda3\\lib\\site-packages\\joblib\\parallel.py\u001b[0m in \u001b[0;36m__exit__\u001b[1;34m(self, exc_type, exc_value, traceback)\u001b[0m\n\u001b[0;32m    664\u001b[0m \u001b[1;33m\u001b[0m\u001b[0m\n\u001b[0;32m    665\u001b[0m     \u001b[1;32mdef\u001b[0m \u001b[0m__exit__\u001b[0m\u001b[1;33m(\u001b[0m\u001b[0mself\u001b[0m\u001b[1;33m,\u001b[0m \u001b[0mexc_type\u001b[0m\u001b[1;33m,\u001b[0m \u001b[0mexc_value\u001b[0m\u001b[1;33m,\u001b[0m \u001b[0mtraceback\u001b[0m\u001b[1;33m)\u001b[0m\u001b[1;33m:\u001b[0m\u001b[1;33m\u001b[0m\u001b[1;33m\u001b[0m\u001b[0m\n\u001b[1;32m--> 666\u001b[1;33m         \u001b[0mself\u001b[0m\u001b[1;33m.\u001b[0m\u001b[0m_terminate_backend\u001b[0m\u001b[1;33m(\u001b[0m\u001b[1;33m)\u001b[0m\u001b[1;33m\u001b[0m\u001b[1;33m\u001b[0m\u001b[0m\n\u001b[0m\u001b[0;32m    667\u001b[0m         \u001b[0mself\u001b[0m\u001b[1;33m.\u001b[0m\u001b[0m_managed_backend\u001b[0m \u001b[1;33m=\u001b[0m \u001b[1;32mFalse\u001b[0m\u001b[1;33m\u001b[0m\u001b[1;33m\u001b[0m\u001b[0m\n\u001b[0;32m    668\u001b[0m \u001b[1;33m\u001b[0m\u001b[0m\n",
      "\u001b[1;32mC:\\ProgramData\\Anaconda3\\lib\\site-packages\\joblib\\parallel.py\u001b[0m in \u001b[0;36m_terminate_backend\u001b[1;34m(self)\u001b[0m\n\u001b[0;32m    694\u001b[0m     \u001b[1;32mdef\u001b[0m \u001b[0m_terminate_backend\u001b[0m\u001b[1;33m(\u001b[0m\u001b[0mself\u001b[0m\u001b[1;33m)\u001b[0m\u001b[1;33m:\u001b[0m\u001b[1;33m\u001b[0m\u001b[1;33m\u001b[0m\u001b[0m\n\u001b[0;32m    695\u001b[0m         \u001b[1;32mif\u001b[0m \u001b[0mself\u001b[0m\u001b[1;33m.\u001b[0m\u001b[0m_backend\u001b[0m \u001b[1;32mis\u001b[0m \u001b[1;32mnot\u001b[0m \u001b[1;32mNone\u001b[0m\u001b[1;33m:\u001b[0m\u001b[1;33m\u001b[0m\u001b[1;33m\u001b[0m\u001b[0m\n\u001b[1;32m--> 696\u001b[1;33m             \u001b[0mself\u001b[0m\u001b[1;33m.\u001b[0m\u001b[0m_backend\u001b[0m\u001b[1;33m.\u001b[0m\u001b[0mterminate\u001b[0m\u001b[1;33m(\u001b[0m\u001b[1;33m)\u001b[0m\u001b[1;33m\u001b[0m\u001b[1;33m\u001b[0m\u001b[0m\n\u001b[0m\u001b[0;32m    697\u001b[0m \u001b[1;33m\u001b[0m\u001b[0m\n\u001b[0;32m    698\u001b[0m     \u001b[1;32mdef\u001b[0m \u001b[0m_dispatch\u001b[0m\u001b[1;33m(\u001b[0m\u001b[0mself\u001b[0m\u001b[1;33m,\u001b[0m \u001b[0mbatch\u001b[0m\u001b[1;33m)\u001b[0m\u001b[1;33m:\u001b[0m\u001b[1;33m\u001b[0m\u001b[1;33m\u001b[0m\u001b[0m\n",
      "\u001b[1;32mC:\\ProgramData\\Anaconda3\\lib\\site-packages\\joblib\\_parallel_backends.py\u001b[0m in \u001b[0;36mterminate\u001b[1;34m(self)\u001b[0m\n\u001b[0;32m    528\u001b[0m             \u001b[1;31m# in latter calls but we free as much memory as we can by deleting\u001b[0m\u001b[1;33m\u001b[0m\u001b[1;33m\u001b[0m\u001b[1;33m\u001b[0m\u001b[0m\n\u001b[0;32m    529\u001b[0m             \u001b[1;31m# the shared memory\u001b[0m\u001b[1;33m\u001b[0m\u001b[1;33m\u001b[0m\u001b[1;33m\u001b[0m\u001b[0m\n\u001b[1;32m--> 530\u001b[1;33m             \u001b[0mdelete_folder\u001b[0m\u001b[1;33m(\u001b[0m\u001b[0mself\u001b[0m\u001b[1;33m.\u001b[0m\u001b[0m_workers\u001b[0m\u001b[1;33m.\u001b[0m\u001b[0m_temp_folder\u001b[0m\u001b[1;33m)\u001b[0m\u001b[1;33m\u001b[0m\u001b[1;33m\u001b[0m\u001b[0m\n\u001b[0m\u001b[0;32m    531\u001b[0m             \u001b[0mself\u001b[0m\u001b[1;33m.\u001b[0m\u001b[0m_workers\u001b[0m \u001b[1;33m=\u001b[0m \u001b[1;32mNone\u001b[0m\u001b[1;33m\u001b[0m\u001b[1;33m\u001b[0m\u001b[0m\n\u001b[0;32m    532\u001b[0m \u001b[1;33m\u001b[0m\u001b[0m\n",
      "\u001b[1;32mC:\\ProgramData\\Anaconda3\\lib\\site-packages\\joblib\\disk.py\u001b[0m in \u001b[0;36mdelete_folder\u001b[1;34m(folder_path, onerror)\u001b[0m\n\u001b[0;32m    113\u001b[0m             \u001b[1;32mwhile\u001b[0m \u001b[1;32mTrue\u001b[0m\u001b[1;33m:\u001b[0m\u001b[1;33m\u001b[0m\u001b[1;33m\u001b[0m\u001b[0m\n\u001b[0;32m    114\u001b[0m                 \u001b[1;32mtry\u001b[0m\u001b[1;33m:\u001b[0m\u001b[1;33m\u001b[0m\u001b[1;33m\u001b[0m\u001b[0m\n\u001b[1;32m--> 115\u001b[1;33m                     \u001b[0mshutil\u001b[0m\u001b[1;33m.\u001b[0m\u001b[0mrmtree\u001b[0m\u001b[1;33m(\u001b[0m\u001b[0mfolder_path\u001b[0m\u001b[1;33m,\u001b[0m \u001b[1;32mFalse\u001b[0m\u001b[1;33m,\u001b[0m \u001b[1;32mNone\u001b[0m\u001b[1;33m)\u001b[0m\u001b[1;33m\u001b[0m\u001b[1;33m\u001b[0m\u001b[0m\n\u001b[0m\u001b[0;32m    116\u001b[0m                     \u001b[1;32mbreak\u001b[0m\u001b[1;33m\u001b[0m\u001b[1;33m\u001b[0m\u001b[0m\n\u001b[0;32m    117\u001b[0m                 \u001b[1;32mexcept\u001b[0m \u001b[1;33m(\u001b[0m\u001b[0mOSError\u001b[0m\u001b[1;33m,\u001b[0m \u001b[0mWindowsError\u001b[0m\u001b[1;33m)\u001b[0m\u001b[1;33m:\u001b[0m\u001b[1;33m\u001b[0m\u001b[1;33m\u001b[0m\u001b[0m\n",
      "\u001b[1;32mC:\\ProgramData\\Anaconda3\\lib\\shutil.py\u001b[0m in \u001b[0;36mrmtree\u001b[1;34m(path, ignore_errors, onerror)\u001b[0m\n\u001b[0;32m    511\u001b[0m             \u001b[1;31m# can't continue even if onerror hook returns\u001b[0m\u001b[1;33m\u001b[0m\u001b[1;33m\u001b[0m\u001b[1;33m\u001b[0m\u001b[0m\n\u001b[0;32m    512\u001b[0m             \u001b[1;32mreturn\u001b[0m\u001b[1;33m\u001b[0m\u001b[1;33m\u001b[0m\u001b[0m\n\u001b[1;32m--> 513\u001b[1;33m         \u001b[1;32mreturn\u001b[0m \u001b[0m_rmtree_unsafe\u001b[0m\u001b[1;33m(\u001b[0m\u001b[0mpath\u001b[0m\u001b[1;33m,\u001b[0m \u001b[0monerror\u001b[0m\u001b[1;33m)\u001b[0m\u001b[1;33m\u001b[0m\u001b[1;33m\u001b[0m\u001b[0m\n\u001b[0m\u001b[0;32m    514\u001b[0m \u001b[1;33m\u001b[0m\u001b[0m\n\u001b[0;32m    515\u001b[0m \u001b[1;31m# Allow introspection of whether or not the hardening against symlink\u001b[0m\u001b[1;33m\u001b[0m\u001b[1;33m\u001b[0m\u001b[1;33m\u001b[0m\u001b[0m\n",
      "\u001b[1;32mC:\\ProgramData\\Anaconda3\\lib\\shutil.py\u001b[0m in \u001b[0;36m_rmtree_unsafe\u001b[1;34m(path, onerror)\u001b[0m\n\u001b[0;32m    395\u001b[0m                 \u001b[0mos\u001b[0m\u001b[1;33m.\u001b[0m\u001b[0munlink\u001b[0m\u001b[1;33m(\u001b[0m\u001b[0mfullname\u001b[0m\u001b[1;33m)\u001b[0m\u001b[1;33m\u001b[0m\u001b[1;33m\u001b[0m\u001b[0m\n\u001b[0;32m    396\u001b[0m             \u001b[1;32mexcept\u001b[0m \u001b[0mOSError\u001b[0m\u001b[1;33m:\u001b[0m\u001b[1;33m\u001b[0m\u001b[1;33m\u001b[0m\u001b[0m\n\u001b[1;32m--> 397\u001b[1;33m                 \u001b[0monerror\u001b[0m\u001b[1;33m(\u001b[0m\u001b[0mos\u001b[0m\u001b[1;33m.\u001b[0m\u001b[0munlink\u001b[0m\u001b[1;33m,\u001b[0m \u001b[0mfullname\u001b[0m\u001b[1;33m,\u001b[0m \u001b[0msys\u001b[0m\u001b[1;33m.\u001b[0m\u001b[0mexc_info\u001b[0m\u001b[1;33m(\u001b[0m\u001b[1;33m)\u001b[0m\u001b[1;33m)\u001b[0m\u001b[1;33m\u001b[0m\u001b[1;33m\u001b[0m\u001b[0m\n\u001b[0m\u001b[0;32m    398\u001b[0m     \u001b[1;32mtry\u001b[0m\u001b[1;33m:\u001b[0m\u001b[1;33m\u001b[0m\u001b[1;33m\u001b[0m\u001b[0m\n\u001b[0;32m    399\u001b[0m         \u001b[0mos\u001b[0m\u001b[1;33m.\u001b[0m\u001b[0mrmdir\u001b[0m\u001b[1;33m(\u001b[0m\u001b[0mpath\u001b[0m\u001b[1;33m)\u001b[0m\u001b[1;33m\u001b[0m\u001b[1;33m\u001b[0m\u001b[0m\n",
      "\u001b[1;32mC:\\ProgramData\\Anaconda3\\lib\\shutil.py\u001b[0m in \u001b[0;36m_rmtree_unsafe\u001b[1;34m(path, onerror)\u001b[0m\n\u001b[0;32m    393\u001b[0m         \u001b[1;32melse\u001b[0m\u001b[1;33m:\u001b[0m\u001b[1;33m\u001b[0m\u001b[1;33m\u001b[0m\u001b[0m\n\u001b[0;32m    394\u001b[0m             \u001b[1;32mtry\u001b[0m\u001b[1;33m:\u001b[0m\u001b[1;33m\u001b[0m\u001b[1;33m\u001b[0m\u001b[0m\n\u001b[1;32m--> 395\u001b[1;33m                 \u001b[0mos\u001b[0m\u001b[1;33m.\u001b[0m\u001b[0munlink\u001b[0m\u001b[1;33m(\u001b[0m\u001b[0mfullname\u001b[0m\u001b[1;33m)\u001b[0m\u001b[1;33m\u001b[0m\u001b[1;33m\u001b[0m\u001b[0m\n\u001b[0m\u001b[0;32m    396\u001b[0m             \u001b[1;32mexcept\u001b[0m \u001b[0mOSError\u001b[0m\u001b[1;33m:\u001b[0m\u001b[1;33m\u001b[0m\u001b[1;33m\u001b[0m\u001b[0m\n\u001b[0;32m    397\u001b[0m                 \u001b[0monerror\u001b[0m\u001b[1;33m(\u001b[0m\u001b[0mos\u001b[0m\u001b[1;33m.\u001b[0m\u001b[0munlink\u001b[0m\u001b[1;33m,\u001b[0m \u001b[0mfullname\u001b[0m\u001b[1;33m,\u001b[0m \u001b[0msys\u001b[0m\u001b[1;33m.\u001b[0m\u001b[0mexc_info\u001b[0m\u001b[1;33m(\u001b[0m\u001b[1;33m)\u001b[0m\u001b[1;33m)\u001b[0m\u001b[1;33m\u001b[0m\u001b[1;33m\u001b[0m\u001b[0m\n",
      "\u001b[1;31mPermissionError\u001b[0m: [WinError 32] The process cannot access the file because it is being used by another process: 'C:\\\\Users\\\\CORINN~1.WEG\\\\AppData\\\\Local\\\\Temp\\\\joblib_memmapping_folder_12612_6894980160\\\\12612-1751341378920-8ee34330cf3b47b183764aceafcbc26c.pkl'"
     ]
    }
   ],
   "source": [
    "results = model_gridsearch.fit(train,train,epochs=50,validation_split=0.1, verbose=1)"
   ]
  }
 ],
 "metadata": {
  "kernelspec": {
   "display_name": "Python 3 (ipykernel)",
   "language": "python",
   "name": "python3"
  },
  "language_info": {
   "codemirror_mode": {
    "name": "ipython",
    "version": 3
   },
   "file_extension": ".py",
   "mimetype": "text/x-python",
   "name": "python",
   "nbconvert_exporter": "python",
   "pygments_lexer": "ipython3",
   "version": "3.9.13"
  }
 },
 "nbformat": 4,
 "nbformat_minor": 2
}
