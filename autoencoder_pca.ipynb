{
 "cells": [
  {
   "cell_type": "markdown",
   "metadata": {},
   "source": [
    "# Simple Autoencoder to perform PCA task"
   ]
  },
  {
   "cell_type": "markdown",
   "metadata": {},
   "source": [
    "In this notebook we will implement an autoencoder which does a PCA and compare it to the PCA in the first notebook (see exploring_data.ipnb). "
   ]
  },
  {
   "cell_type": "code",
   "execution_count": 21,
   "metadata": {},
   "outputs": [],
   "source": [
    "import tensorflow as tf\n",
    "import numpy as np\n",
    "from tensorflow import keras\n",
    "layers = keras.layers"
   ]
  },
  {
   "cell_type": "markdown",
   "metadata": {},
   "source": [
    "We load the data and split them into train, validation and test set. "
   ]
  },
  {
   "cell_type": "code",
   "execution_count": 22,
   "metadata": {},
   "outputs": [],
   "source": [
    "from sklearn.model_selection import train_test_split\n",
    "\n",
    "gen = np.loadtxt(\"qcs_gen10000.txt\", delimiter=\",\")\n",
    "\n",
    "\n",
    "from sklearn.preprocessing import StandardScaler\n",
    "from sklearn.decomposition import PCA\n",
    "\n",
    "gen = StandardScaler().fit_transform(gen)"
   ]
  },
  {
   "cell_type": "markdown",
   "metadata": {},
   "source": [
    "Our aim is to build a full autoencoder which produces a copy () of the original input. We can then use the encoder part to produce 2D-representations of the data. "
   ]
  },
  {
   "cell_type": "code",
   "execution_count": 23,
   "metadata": {},
   "outputs": [
    {
     "data": {
      "text/plain": [
       "'\\nactivation = \"relu\"\\nregularizer = keras.regularizers.L1L2(l1=0.1, l2=0.1)\\n\\ninputlayer = layers.Input(shape=X_train.shape[1])\\ne2 = layers.Dense(500, activation=activation)(inputlayer)\\ne3 = layers.Dense(50, activation=activation)(e2)\\n\\nencoded1 = layers.Dense(10)(e3)\\nencoded2 = layers.Dense(2)(encoded1)\\n\\nd01 = layers.Dense(10, activation=activation)(encoded2)\\nd02 = layers.Dense(50, activation=activation)(d01)\\nd1 = layers.Dense(50, activation=activation)(encoded1)\\nadded = layers.Add()([d02, d1])\\nd2 = layers.Dense(500, activation=activation)(added)\\noutputlayer = layers.Dense(1101, activation=activation)(d2)\\n\\nautoencoder = keras.models.Model(inputlayer, outputlayer)\\npca = keras.Model(inputlayer,encoded2)\\n\\nprint(pca_autoencoder.summary())\\n'"
      ]
     },
     "execution_count": 23,
     "metadata": {},
     "output_type": "execute_result"
    }
   ],
   "source": [
    "\"\"\"\n",
    "activation = \"relu\"\n",
    "regularizer = keras.regularizers.L1L2(l1=0.1, l2=0.1)\n",
    "\n",
    "inputlayer = layers.Input(shape=X_train.shape[1])\n",
    "e2 = layers.Dense(500, activation=activation)(inputlayer)\n",
    "e3 = layers.Dense(50, activation=activation)(e2)\n",
    "\n",
    "encoded1 = layers.Dense(10)(e3)\n",
    "encoded2 = layers.Dense(2)(encoded1)\n",
    "\n",
    "d01 = layers.Dense(10, activation=activation)(encoded2)\n",
    "d02 = layers.Dense(50, activation=activation)(d01)\n",
    "d1 = layers.Dense(50, activation=activation)(encoded1)\n",
    "added = layers.Add()([d02, d1])\n",
    "d2 = layers.Dense(500, activation=activation)(added)\n",
    "outputlayer = layers.Dense(1101, activation=activation)(d2)\n",
    "\n",
    "autoencoder = keras.models.Model(inputlayer, outputlayer)\n",
    "pca = keras.Model(inputlayer,encoded2)\n",
    "\n",
    "print(pca_autoencoder.summary())\n",
    "\"\"\""
   ]
  },
  {
   "cell_type": "code",
   "execution_count": 24,
   "metadata": {},
   "outputs": [
    {
     "name": "stdout",
     "output_type": "stream",
     "text": [
      "Model: \"model_6\"\n",
      "_________________________________________________________________\n",
      "Layer (type)                 Output Shape              Param #   \n",
      "=================================================================\n",
      "input_4 (InputLayer)         [(None, 1101)]            0         \n",
      "_________________________________________________________________\n",
      "dense_24 (Dense)             (None, 500)               551000    \n",
      "_________________________________________________________________\n",
      "dense_25 (Dense)             (None, 50)                25050     \n",
      "_________________________________________________________________\n",
      "dense_26 (Dense)             (None, 10)                510       \n",
      "_________________________________________________________________\n",
      "dense_27 (Dense)             (None, 2)                 22        \n",
      "_________________________________________________________________\n",
      "dense_28 (Dense)             (None, 10)                30        \n",
      "_________________________________________________________________\n",
      "dense_29 (Dense)             (None, 50)                550       \n",
      "_________________________________________________________________\n",
      "dense_31 (Dense)             (None, 1101)              56151     \n",
      "=================================================================\n",
      "Total params: 633,313\n",
      "Trainable params: 633,313\n",
      "Non-trainable params: 0\n",
      "_________________________________________________________________\n",
      "None\n"
     ]
    }
   ],
   "source": [
    "activation = \"linear\"\n",
    "regularizer = keras.regularizers.L1L2(l1=0.1, l2=0.1)\n",
    "\n",
    "inputlayer = layers.Input(shape=train.shape[1])\n",
    "e2 = layers.Dense(500, activation=activation)(inputlayer)\n",
    "e3 = layers.Dense(50, activation=activation)(e2)\n",
    "e4 = layers.Dense(10)(e3)\n",
    "\n",
    "encoded = layers.Dense(2)(e4)\n",
    "\n",
    "d1 = layers.Dense(10, activation=activation)(encoded)\n",
    "d2 = layers.Dense(50, activation=activation)(d1)\n",
    "d3 = layers.Dense(500, activation=activation)(d2)\n",
    "outputlayer = layers.Dense(1101, activation=activation)(d2)\n",
    "\n",
    "autoencoder = keras.models.Model(inputlayer, outputlayer)\n",
    "pca = keras.Model(inputlayer,encoded)\n",
    "\n",
    "print(autoencoder.summary())"
   ]
  },
  {
   "cell_type": "code",
   "execution_count": 25,
   "metadata": {},
   "outputs": [
    {
     "name": "stdout",
     "output_type": "stream",
     "text": [
      "Failed to import pydot. You must install pydot and graphviz for `pydotprint` to work.\n"
     ]
    }
   ],
   "source": [
    "#Visualisierung vom Model \n",
    "keras.utils.plot_model(autoencoder, show_shapes=True)"
   ]
  },
  {
   "cell_type": "code",
   "execution_count": 26,
   "metadata": {},
   "outputs": [],
   "source": [
    "autoencoder.compile(optimizer=keras.optimizers.Adam(0.001), loss='mse')\n",
    "\n",
    "earlystopping = keras.callbacks.EarlyStopping(monitor='val_loss', patience=2, verbose=1)\n",
    "rl_on_plateau= keras.callbacks.ReduceLROnPlateau(monitor='val_loss', factor=0.67, patience=2,\n",
    "                                                 verbose=1, min_lr=1e-5)"
   ]
  },
  {
   "cell_type": "code",
   "execution_count": 27,
   "metadata": {
    "scrolled": true
   },
   "outputs": [
    {
     "name": "stdout",
     "output_type": "stream",
     "text": [
      "Train on 7200 samples, validate on 800 samples\n",
      "Epoch 1/50\n",
      "7200/7200 [==============================] - 1s 102us/sample - loss: 1.0962 - val_loss: 0.2376\n",
      "Epoch 2/50\n",
      "7200/7200 [==============================] - 0s 47us/sample - loss: 0.2364 - val_loss: 0.2176\n",
      "Epoch 3/50\n",
      "7200/7200 [==============================] - 0s 46us/sample - loss: 0.2007 - val_loss: 0.1766\n",
      "Epoch 4/50\n",
      "7200/7200 [==============================] - 0s 46us/sample - loss: 0.1391 - val_loss: 0.1073\n",
      "Epoch 5/50\n",
      "7200/7200 [==============================] - 0s 46us/sample - loss: 0.1235 - val_loss: 0.1025\n",
      "Epoch 6/50\n",
      "7200/7200 [==============================] - 0s 47us/sample - loss: 0.1025 - val_loss: 0.0997\n",
      "Epoch 7/50\n",
      "7200/7200 [==============================] - 0s 45us/sample - loss: 0.1017 - val_loss: 0.0997\n",
      "Epoch 8/50\n",
      "7200/7200 [==============================] - 0s 47us/sample - loss: 0.1015 - val_loss: 0.0996\n",
      "Epoch 9/50\n",
      "7200/7200 [==============================] - 0s 48us/sample - loss: 0.1016 - val_loss: 0.0998\n",
      "Epoch 10/50\n",
      "7200/7200 [==============================] - 0s 49us/sample - loss: 0.1016 - val_loss: 0.0998\n",
      "Epoch 11/50\n",
      "7200/7200 [==============================] - 1s 84us/sample - loss: 0.1016 - val_loss: 0.0999\n",
      "Epoch 12/50\n",
      "7200/7200 [==============================] - 0s 47us/sample - loss: 0.1016 - val_loss: 0.0996\n",
      "Epoch 13/50\n",
      "7200/7200 [==============================] - 1s 73us/sample - loss: 0.1016 - val_loss: 0.0994\n",
      "Epoch 14/50\n",
      "7200/7200 [==============================] - 0s 46us/sample - loss: 0.1016 - val_loss: 0.0995\n",
      "Epoch 15/50\n",
      "7200/7200 [==============================] - 1s 79us/sample - loss: 0.1016 - val_loss: 0.0996\n",
      "Epoch 16/50\n",
      "7200/7200 [==============================] - 0s 49us/sample - loss: 0.1017 - val_loss: 0.0997\n",
      "Epoch 17/50\n",
      "7200/7200 [==============================] - ETA: 0s - loss: 0.101 - 0s 54us/sample - loss: 0.1016 - val_loss: 0.0999\n",
      "Epoch 18/50\n",
      "7200/7200 [==============================] - 0s 63us/sample - loss: 0.1017 - val_loss: 0.0996\n",
      "Epoch 19/50\n",
      "7200/7200 [==============================] - 0s 49us/sample - loss: 0.1015 - val_loss: 0.0998\n",
      "Epoch 20/50\n",
      "7200/7200 [==============================] - 0s 57us/sample - loss: 0.1016 - val_loss: 0.0999\n",
      "Epoch 21/50\n",
      "7200/7200 [==============================] - 0s 55us/sample - loss: 0.1016 - val_loss: 0.0996\n",
      "Epoch 22/50\n",
      "7200/7200 [==============================] - 0s 46us/sample - loss: 0.1016 - val_loss: 0.0994\n",
      "Epoch 23/50\n",
      "7200/7200 [==============================] - 0s 58us/sample - loss: 0.1016 - val_loss: 0.0995\n",
      "Epoch 24/50\n",
      "7200/7200 [==============================] - 0s 54us/sample - loss: 0.1017 - val_loss: 0.0997\n",
      "Epoch 25/50\n",
      "7200/7200 [==============================] - 0s 46us/sample - loss: 0.1017 - val_loss: 0.0996\n",
      "Epoch 26/50\n",
      "7200/7200 [==============================] - 0s 57us/sample - loss: 0.1018 - val_loss: 0.0997\n",
      "Epoch 27/50\n",
      "7200/7200 [==============================] - 0s 48us/sample - loss: 0.1017 - val_loss: 0.0998\n",
      "Epoch 28/50\n",
      "7200/7200 [==============================] - 0s 58us/sample - loss: 0.1020 - val_loss: 0.0996\n",
      "Epoch 29/50\n",
      "7200/7200 [==============================] - 0s 55us/sample - loss: 0.1016 - val_loss: 0.0997\n",
      "Epoch 30/50\n",
      "7200/7200 [==============================] - 0s 46us/sample - loss: 0.1016 - val_loss: 0.1002\n",
      "Epoch 31/50\n",
      "7200/7200 [==============================] - 0s 48us/sample - loss: 0.1019 - val_loss: 0.0996\n",
      "Epoch 32/50\n",
      "7200/7200 [==============================] - 0s 59us/sample - loss: 0.1019 - val_loss: 0.0996\n",
      "Epoch 33/50\n",
      "7200/7200 [==============================] - 0s 52us/sample - loss: 0.1016 - val_loss: 0.0998\n",
      "Epoch 34/50\n",
      "7200/7200 [==============================] - 0s 46us/sample - loss: 0.1017 - val_loss: 0.0996\n",
      "Epoch 35/50\n",
      "7200/7200 [==============================] - 0s 50us/sample - loss: 0.1017 - val_loss: 0.0997\n",
      "Epoch 36/50\n",
      "7200/7200 [==============================] - 0s 57us/sample - loss: 0.1017 - val_loss: 0.0998\n",
      "Epoch 37/50\n",
      "7200/7200 [==============================] - 0s 54us/sample - loss: 0.1017 - val_loss: 0.0996\n",
      "Epoch 38/50\n",
      "7200/7200 [==============================] - 0s 54us/sample - loss: 0.1017 - val_loss: 0.0996\n",
      "Epoch 39/50\n",
      "7200/7200 [==============================] - 0s 55us/sample - loss: 0.1018 - val_loss: 0.0997\n",
      "Epoch 40/50\n",
      "7200/7200 [==============================] - 0s 48us/sample - loss: 0.1017 - val_loss: 0.0999\n",
      "Epoch 41/50\n",
      "7200/7200 [==============================] - 1s 73us/sample - loss: 0.1017 - val_loss: 0.0996\n",
      "Epoch 42/50\n",
      "7200/7200 [==============================] - 0s 52us/sample - loss: 0.1018 - val_loss: 0.0999\n",
      "Epoch 43/50\n",
      "7200/7200 [==============================] - 1s 70us/sample - loss: 0.1017 - val_loss: 0.0997\n",
      "Epoch 44/50\n",
      "7200/7200 [==============================] - 0s 59us/sample - loss: 0.1017 - val_loss: 0.0999\n",
      "Epoch 45/50\n",
      "7200/7200 [==============================] - 0s 48us/sample - loss: 0.1018 - val_loss: 0.0995\n",
      "Epoch 46/50\n",
      "7200/7200 [==============================] - 0s 53us/sample - loss: 0.1016 - val_loss: 0.1002\n",
      "Epoch 47/50\n",
      "7200/7200 [==============================] - 0s 56us/sample - loss: 0.1019 - val_loss: 0.0997\n",
      "Epoch 48/50\n",
      "7200/7200 [==============================] - 0s 49us/sample - loss: 0.1018 - val_loss: 0.0998\n",
      "Epoch 49/50\n",
      "7200/7200 [==============================] - 0s 48us/sample - loss: 0.1017 - val_loss: 0.0995\n",
      "Epoch 50/50\n",
      "7200/7200 [==============================] - ETA: 0s - loss: 0.101 - 1s 78us/sample - loss: 0.1016 - val_loss: 0.0996\n"
     ]
    }
   ],
   "source": [
    "results= autoencoder.fit(train, train, epochs=50, batch_size=256, validation_split=0.1, verbose=1)#, callbacks=[earlystopping, rl_on_plateau])"
   ]
  },
  {
   "cell_type": "code",
   "execution_count": 28,
   "metadata": {},
   "outputs": [],
   "source": [
    "#autoencoder.save(\"pca_autoencoder.h5\")"
   ]
  },
  {
   "cell_type": "code",
   "execution_count": 29,
   "metadata": {},
   "outputs": [],
   "source": [
    "spectra_autoencoder = autoencoder.predict(test)"
   ]
  },
  {
   "cell_type": "code",
   "execution_count": 30,
   "metadata": {},
   "outputs": [
    {
     "data": {
      "text/plain": [
       "Text(0, 0.5, 'principal component 2')"
      ]
     },
     "execution_count": 30,
     "metadata": {},
     "output_type": "execute_result"
    },
    {
     "data": {
      "image/png": "[encoded data removed]",
      "text/plain": [
       "<Figure size 432x288 with 1 Axes>"
      ]
     },
     "metadata": {
      "needs_background": "light"
     },
     "output_type": "display_data"
    }
   ],
   "source": [
    "import matplotlib.pyplot as plt\n",
    "\n",
    "encoded = pca.predict(gen)\n",
    "#https://blog.keras.io/building-autoencoders-in-keras.html für die Idee wie man den encoder separiert hat\n",
    "#print(encoded)\n",
    "for i in range(len(encoded)):\n",
    "    plt.plot(encoded[i][0], encoded[i][1], 'go', markersize = 0.5)\n",
    "plt.title(\"PCA with autoencoder\")\n",
    "plt.xlabel(\"principal component 1\")\n",
    "plt.ylabel(\"principal component 2\")"
   ]
  },
  {
   "cell_type": "code",
   "execution_count": 31,
   "metadata": {},
   "outputs": [
    {
     "ename": "ValueError",
     "evalue": "Shape of passed values is (10000, 3), indices imply (10000, 2)",
     "output_type": "error",
     "traceback": [
      "\u001b[1;31m---------------------------------------------------------------------------\u001b[0m",
      "\u001b[1;31mValueError\u001b[0m                                Traceback (most recent call last)",
      "\u001b[1;32mC:\\ProgramData\\Anaconda3\\lib\\site-packages\\pandas\\core\\internals\\managers.py\u001b[0m in \u001b[0;36mcreate_block_manager_from_blocks\u001b[1;34m(blocks, axes)\u001b[0m\n\u001b[0;32m   1650\u001b[0m                 blocks = [make_block(values=blocks[0],\n\u001b[1;32m-> 1651\u001b[1;33m                                      placement=slice(0, len(axes[0])))]\n\u001b[0m\u001b[0;32m   1652\u001b[0m \u001b[1;33m\u001b[0m\u001b[0m\n",
      "\u001b[1;32mC:\\ProgramData\\Anaconda3\\lib\\site-packages\\pandas\\core\\internals\\blocks.py\u001b[0m in \u001b[0;36mmake_block\u001b[1;34m(values, placement, klass, ndim, dtype, fastpath)\u001b[0m\n\u001b[0;32m   3094\u001b[0m \u001b[1;33m\u001b[0m\u001b[0m\n\u001b[1;32m-> 3095\u001b[1;33m     \u001b[1;32mreturn\u001b[0m \u001b[0mklass\u001b[0m\u001b[1;33m(\u001b[0m\u001b[0mvalues\u001b[0m\u001b[1;33m,\u001b[0m \u001b[0mndim\u001b[0m\u001b[1;33m=\u001b[0m\u001b[0mndim\u001b[0m\u001b[1;33m,\u001b[0m \u001b[0mplacement\u001b[0m\u001b[1;33m=\u001b[0m\u001b[0mplacement\u001b[0m\u001b[1;33m)\u001b[0m\u001b[1;33m\u001b[0m\u001b[1;33m\u001b[0m\u001b[0m\n\u001b[0m\u001b[0;32m   3096\u001b[0m \u001b[1;33m\u001b[0m\u001b[0m\n",
      "\u001b[1;32mC:\\ProgramData\\Anaconda3\\lib\\site-packages\\pandas\\core\\internals\\blocks.py\u001b[0m in \u001b[0;36m__init__\u001b[1;34m(self, values, placement, ndim)\u001b[0m\n\u001b[0;32m     86\u001b[0m                 \u001b[1;34m'Wrong number of items passed {val}, placement implies '\u001b[0m\u001b[1;33m\u001b[0m\u001b[1;33m\u001b[0m\u001b[0m\n\u001b[1;32m---> 87\u001b[1;33m                 '{mgr}'.format(val=len(self.values), mgr=len(self.mgr_locs)))\n\u001b[0m\u001b[0;32m     88\u001b[0m \u001b[1;33m\u001b[0m\u001b[0m\n",
      "\u001b[1;31mValueError\u001b[0m: Wrong number of items passed 3, placement implies 2",
      "\nDuring handling of the above exception, another exception occurred:\n",
      "\u001b[1;31mValueError\u001b[0m                                Traceback (most recent call last)",
      "\u001b[1;32m<ipython-input-31-356131983236>\u001b[0m in \u001b[0;36m<module>\u001b[1;34m\u001b[0m\n\u001b[0;32m      5\u001b[0m \u001b[0mpca\u001b[0m \u001b[1;33m=\u001b[0m \u001b[0mPCA\u001b[0m\u001b[1;33m(\u001b[0m\u001b[0mn_components\u001b[0m\u001b[1;33m=\u001b[0m\u001b[1;36m3\u001b[0m\u001b[1;33m)\u001b[0m\u001b[1;33m\u001b[0m\u001b[1;33m\u001b[0m\u001b[0m\n\u001b[0;32m      6\u001b[0m \u001b[0mprincipalComponents\u001b[0m \u001b[1;33m=\u001b[0m \u001b[0mpca\u001b[0m\u001b[1;33m.\u001b[0m\u001b[0mfit_transform\u001b[0m\u001b[1;33m(\u001b[0m\u001b[0mX_std\u001b[0m\u001b[1;33m)\u001b[0m\u001b[1;33m\u001b[0m\u001b[1;33m\u001b[0m\u001b[0m\n\u001b[1;32m----> 7\u001b[1;33m \u001b[0mprincipalDf\u001b[0m \u001b[1;33m=\u001b[0m \u001b[0mpd\u001b[0m\u001b[1;33m.\u001b[0m\u001b[0mDataFrame\u001b[0m\u001b[1;33m(\u001b[0m\u001b[0mdata\u001b[0m \u001b[1;33m=\u001b[0m \u001b[0mprincipalComponents\u001b[0m\u001b[1;33m,\u001b[0m \u001b[0mcolumns\u001b[0m \u001b[1;33m=\u001b[0m \u001b[1;33m[\u001b[0m\u001b[1;34m'principal component 2'\u001b[0m\u001b[1;33m,\u001b[0m \u001b[1;34m'principal component 3'\u001b[0m\u001b[1;33m]\u001b[0m\u001b[1;33m)\u001b[0m\u001b[1;33m\u001b[0m\u001b[1;33m\u001b[0m\u001b[0m\n\u001b[0m\u001b[0;32m      8\u001b[0m \u001b[1;33m\u001b[0m\u001b[0m\n\u001b[0;32m      9\u001b[0m \u001b[0mxaxis\u001b[0m \u001b[1;33m=\u001b[0m \u001b[0mlist\u001b[0m\u001b[1;33m(\u001b[0m\u001b[0mprincipalDf\u001b[0m\u001b[1;33m[\u001b[0m\u001b[1;34m\"principal component 2\"\u001b[0m\u001b[1;33m]\u001b[0m\u001b[1;33m)\u001b[0m\u001b[1;33m\u001b[0m\u001b[1;33m\u001b[0m\u001b[0m\n",
      "\u001b[1;32mC:\\ProgramData\\Anaconda3\\lib\\site-packages\\pandas\\core\\frame.py\u001b[0m in \u001b[0;36m__init__\u001b[1;34m(self, data, index, columns, dtype, copy)\u001b[0m\n\u001b[0;32m    422\u001b[0m             \u001b[1;32melse\u001b[0m\u001b[1;33m:\u001b[0m\u001b[1;33m\u001b[0m\u001b[1;33m\u001b[0m\u001b[0m\n\u001b[0;32m    423\u001b[0m                 mgr = init_ndarray(data, index, columns, dtype=dtype,\n\u001b[1;32m--> 424\u001b[1;33m                                    copy=copy)\n\u001b[0m\u001b[0;32m    425\u001b[0m \u001b[1;33m\u001b[0m\u001b[0m\n\u001b[0;32m    426\u001b[0m         \u001b[1;31m# For data is list-like, or Iterable (will consume into list)\u001b[0m\u001b[1;33m\u001b[0m\u001b[1;33m\u001b[0m\u001b[1;33m\u001b[0m\u001b[0m\n",
      "\u001b[1;32mC:\\ProgramData\\Anaconda3\\lib\\site-packages\\pandas\\core\\internals\\construction.py\u001b[0m in \u001b[0;36minit_ndarray\u001b[1;34m(values, index, columns, dtype, copy)\u001b[0m\n\u001b[0;32m    165\u001b[0m         \u001b[0mvalues\u001b[0m \u001b[1;33m=\u001b[0m \u001b[0mmaybe_infer_to_datetimelike\u001b[0m\u001b[1;33m(\u001b[0m\u001b[0mvalues\u001b[0m\u001b[1;33m)\u001b[0m\u001b[1;33m\u001b[0m\u001b[1;33m\u001b[0m\u001b[0m\n\u001b[0;32m    166\u001b[0m \u001b[1;33m\u001b[0m\u001b[0m\n\u001b[1;32m--> 167\u001b[1;33m     \u001b[1;32mreturn\u001b[0m \u001b[0mcreate_block_manager_from_blocks\u001b[0m\u001b[1;33m(\u001b[0m\u001b[1;33m[\u001b[0m\u001b[0mvalues\u001b[0m\u001b[1;33m]\u001b[0m\u001b[1;33m,\u001b[0m \u001b[1;33m[\u001b[0m\u001b[0mcolumns\u001b[0m\u001b[1;33m,\u001b[0m \u001b[0mindex\u001b[0m\u001b[1;33m]\u001b[0m\u001b[1;33m)\u001b[0m\u001b[1;33m\u001b[0m\u001b[1;33m\u001b[0m\u001b[0m\n\u001b[0m\u001b[0;32m    168\u001b[0m \u001b[1;33m\u001b[0m\u001b[0m\n\u001b[0;32m    169\u001b[0m \u001b[1;33m\u001b[0m\u001b[0m\n",
      "\u001b[1;32mC:\\ProgramData\\Anaconda3\\lib\\site-packages\\pandas\\core\\internals\\managers.py\u001b[0m in \u001b[0;36mcreate_block_manager_from_blocks\u001b[1;34m(blocks, axes)\u001b[0m\n\u001b[0;32m   1658\u001b[0m         \u001b[0mblocks\u001b[0m \u001b[1;33m=\u001b[0m \u001b[1;33m[\u001b[0m\u001b[0mgetattr\u001b[0m\u001b[1;33m(\u001b[0m\u001b[0mb\u001b[0m\u001b[1;33m,\u001b[0m \u001b[1;34m'values'\u001b[0m\u001b[1;33m,\u001b[0m \u001b[0mb\u001b[0m\u001b[1;33m)\u001b[0m \u001b[1;32mfor\u001b[0m \u001b[0mb\u001b[0m \u001b[1;32min\u001b[0m \u001b[0mblocks\u001b[0m\u001b[1;33m]\u001b[0m\u001b[1;33m\u001b[0m\u001b[1;33m\u001b[0m\u001b[0m\n\u001b[0;32m   1659\u001b[0m         \u001b[0mtot_items\u001b[0m \u001b[1;33m=\u001b[0m \u001b[0msum\u001b[0m\u001b[1;33m(\u001b[0m\u001b[0mb\u001b[0m\u001b[1;33m.\u001b[0m\u001b[0mshape\u001b[0m\u001b[1;33m[\u001b[0m\u001b[1;36m0\u001b[0m\u001b[1;33m]\u001b[0m \u001b[1;32mfor\u001b[0m \u001b[0mb\u001b[0m \u001b[1;32min\u001b[0m \u001b[0mblocks\u001b[0m\u001b[1;33m)\u001b[0m\u001b[1;33m\u001b[0m\u001b[1;33m\u001b[0m\u001b[0m\n\u001b[1;32m-> 1660\u001b[1;33m         \u001b[0mconstruction_error\u001b[0m\u001b[1;33m(\u001b[0m\u001b[0mtot_items\u001b[0m\u001b[1;33m,\u001b[0m \u001b[0mblocks\u001b[0m\u001b[1;33m[\u001b[0m\u001b[1;36m0\u001b[0m\u001b[1;33m]\u001b[0m\u001b[1;33m.\u001b[0m\u001b[0mshape\u001b[0m\u001b[1;33m[\u001b[0m\u001b[1;36m1\u001b[0m\u001b[1;33m:\u001b[0m\u001b[1;33m]\u001b[0m\u001b[1;33m,\u001b[0m \u001b[0maxes\u001b[0m\u001b[1;33m,\u001b[0m \u001b[0me\u001b[0m\u001b[1;33m)\u001b[0m\u001b[1;33m\u001b[0m\u001b[1;33m\u001b[0m\u001b[0m\n\u001b[0m\u001b[0;32m   1661\u001b[0m \u001b[1;33m\u001b[0m\u001b[0m\n\u001b[0;32m   1662\u001b[0m \u001b[1;33m\u001b[0m\u001b[0m\n",
      "\u001b[1;32mC:\\ProgramData\\Anaconda3\\lib\\site-packages\\pandas\\core\\internals\\managers.py\u001b[0m in \u001b[0;36mconstruction_error\u001b[1;34m(tot_items, block_shape, axes, e)\u001b[0m\n\u001b[0;32m   1689\u001b[0m         \u001b[1;32mraise\u001b[0m \u001b[0mValueError\u001b[0m\u001b[1;33m(\u001b[0m\u001b[1;34m\"Empty data passed with indices specified.\"\u001b[0m\u001b[1;33m)\u001b[0m\u001b[1;33m\u001b[0m\u001b[1;33m\u001b[0m\u001b[0m\n\u001b[0;32m   1690\u001b[0m     raise ValueError(\"Shape of passed values is {0}, indices imply {1}\".format(\n\u001b[1;32m-> 1691\u001b[1;33m         passed, implied))\n\u001b[0m\u001b[0;32m   1692\u001b[0m \u001b[1;33m\u001b[0m\u001b[0m\n\u001b[0;32m   1693\u001b[0m \u001b[1;33m\u001b[0m\u001b[0m\n",
      "\u001b[1;31mValueError\u001b[0m: Shape of passed values is (10000, 3), indices imply (10000, 2)"
     ]
    }
   ],
   "source": [
    "import pandas as pd\n",
    "from sklearn.preprocessing import StandardScaler\n",
    "from sklearn.decomposition import PCA\n",
    "X_std = StandardScaler().fit_transform(gen)\n",
    "pca = PCA(n_components=3)\n",
    "principalComponents = pca.fit_transform(X_std)\n",
    "principalDf = pd.DataFrame(data = principalComponents, columns = ['principal component 2', 'principal component 3'])\n",
    "\n",
    "xaxis = list(principalDf[\"principal component 2\"])\n",
    "yaxis = list(principalDf[\"principal component 3\"])\n",
    "\n",
    "plt.plot(xaxis, yaxis, 'go', markersize= 0.5)\n",
    "plt.title(\"PCA for generated samples\")\n",
    "plt.xlabel(\"principal component 1\")\n",
    "plt.ylabel(\"principal component 2\")"
   ]
  },
  {
   "cell_type": "code",
   "execution_count": null,
   "metadata": {},
   "outputs": [],
   "source": []
  },
  {
   "cell_type": "markdown",
   "metadata": {},
   "source": [
    "The axis scaling is "
   ]
  }
 ],
 "metadata": {
  "kernelspec": {
   "display_name": "Python 3 (ipykernel)",
   "language": "python",
   "name": "python3"
  },
  "language_info": {
   "codemirror_mode": {
    "name": "ipython",
    "version": 3
   },
   "file_extension": ".py",
   "mimetype": "text/x-python",
   "name": "python",
   "nbconvert_exporter": "python",
   "pygments_lexer": "ipython3",
   "version": "3.9.13"
  }
 },
 "nbformat": 4,
 "nbformat_minor": 2
}
