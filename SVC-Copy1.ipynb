{
 "cells": [
  {
   "cell_type": "markdown",
   "metadata": {},
   "source": [
    "# SVC"
   ]
  },
  {
   "cell_type": "markdown",
   "metadata": {},
   "source": [
    "In the following, we try to implement a SVC to classify between the real and simulated data. Then we improve the performance of the model step-by-step by doing GridSearch and optimizing the parameters around the results."
   ]
  },
  {
   "cell_type": "markdown",
   "metadata": {},
   "source": [
    "Loading the data and splitting  them into train and test set"
   ]
  },
  {
   "cell_type": "code",
   "execution_count": 1,
   "metadata": {},
   "outputs": [
    {
     "name": "stdout",
     "output_type": "stream",
     "text": [
      "(1500, 1102)\n",
      "(1507, 1102)\n",
      "(3007, 1102)\n",
      "(2405, 1102)\n"
     ]
    }
   ],
   "source": [
    "import numpy as np\n",
    "from sklearn.model_selection import train_test_split\n",
    "\n",
    "z = np.zeros((1500,1), dtype=int)\n",
    "o = np.ones((1507, 1), dtype=int)\n",
    "\n",
    "gen = np.loadtxt(\"qcs_gen.txt\", delimiter=\",\")\n",
    "gen = np.concatenate((gen, z), axis=1)\n",
    "print(gen.shape)\n",
    "\n",
    "real = np.loadtxt(\"qcs_real.txt\", delimiter=\",\")\n",
    "real = np.concatenate((real, o), axis=1)\n",
    "print(real.shape)\n",
    "\n",
    "data = np.concatenate((gen, real), axis=0)\n",
    "print(data.shape)\n",
    "\n",
    "train, test = train_test_split(data, test_size=0.2, random_state=42, shuffle=True, stratify=None)\n",
    "print(train.shape)\n",
    "\n",
    "train, val = train_test_split(train, test_size=0.2, random_state=42, shuffle=True, stratify=None)\n",
    "\n",
    "#https://scikit-learn.org/stable/modules/generated/sklearn.model_selection.GridSearchCV.html\n",
    "#https://scikit-learn.org/stable/modules/generated/sklearn.svm.SVC.html\n",
    "#https://scikit-learn.org/stable/modules/generated/sklearn.model_selection.train_test_split.html"
   ]
  },
  {
   "cell_type": "markdown",
   "metadata": {},
   "source": [
    "Now we perform the SVC without optimised parameters"
   ]
  },
  {
   "cell_type": "code",
   "execution_count": 2,
   "metadata": {
    "scrolled": true
   },
   "outputs": [
    {
     "data": {
      "text/plain": [
       "Pipeline(steps=[('standardscaler', StandardScaler()),\n",
       "                ('svc', SVC(gamma='auto'))])"
      ]
     },
     "execution_count": 2,
     "metadata": {},
     "output_type": "execute_result"
    }
   ],
   "source": [
    "import numpy as np\n",
    "from sklearn.pipeline import make_pipeline\n",
    "from sklearn.preprocessing import StandardScaler\n",
    "\n",
    "X = train[:, :-1]\n",
    "y = train[:, -1]\n",
    "\n",
    "from sklearn.svm import SVC\n",
    "clf = make_pipeline(StandardScaler(), SVC(gamma='auto'))\n",
    "clf.fit(X, y)\n",
    "#https://scikit-learn.org/stable/modules/generated/sklearn.svm.SVC.html"
   ]
  },
  {
   "cell_type": "markdown",
   "metadata": {},
   "source": [
    "We evaluate the performance of the SVC using accuracy:"
   ]
  },
  {
   "cell_type": "code",
   "execution_count": 3,
   "metadata": {},
   "outputs": [
    {
     "data": {
      "text/plain": [
       "0.8837209302325582"
      ]
     },
     "execution_count": 3,
     "metadata": {},
     "output_type": "execute_result"
    }
   ],
   "source": [
    "from sklearn.metrics import accuracy_score\n",
    "y_pred = clf.predict(test[:, :-1])\n",
    "y_true = test[:, -1]\n",
    "accuracy_score(y_true, y_pred)"
   ]
  },
  {
   "cell_type": "markdown",
   "metadata": {},
   "source": [
    "Now, we try to increase the performance of the model by optimizing the parameters with Grid Search"
   ]
  },
  {
   "cell_type": "code",
   "execution_count": 4,
   "metadata": {},
   "outputs": [
    {
     "data": {
      "text/plain": [
       "GridSearchCV(estimator=Pipeline(steps=[('standardscaler', StandardScaler()),\n",
       "                                       ('svc', SVC(gamma='auto'))]),\n",
       "             param_grid={'svc__C': [0.001, 0.01, 0.1, 1, 10],\n",
       "                         'svc__kernel': ('linear', 'rbf', 'poly', 'sigmoid')})"
      ]
     },
     "execution_count": 4,
     "metadata": {},
     "output_type": "execute_result"
    }
   ],
   "source": [
    "from sklearn import svm, datasets\n",
    "from sklearn.model_selection import GridSearchCV\n",
    "\n",
    "parameters = {'svc__kernel':('linear', 'rbf', 'poly', 'sigmoid'), \"svc__C\": [0.001, 0.01, 0.1, 1, 10]}\n",
    "pipeline = make_pipeline(StandardScaler(), SVC(gamma='auto'))\n",
    "clf = GridSearchCV(estimator=pipeline, param_grid=parameters)\n",
    "clf.fit(train[:, :-1], train[:, -1])"
   ]
  },
  {
   "cell_type": "markdown",
   "metadata": {},
   "source": [
    "Let's see if the accuracy has increased"
   ]
  },
  {
   "cell_type": "code",
   "execution_count": 5,
   "metadata": {},
   "outputs": [
    {
     "data": {
      "text/plain": [
       "0.9518272425249169"
      ]
     },
     "execution_count": 5,
     "metadata": {},
     "output_type": "execute_result"
    }
   ],
   "source": [
    "y_pred = clf.predict(test[:, :-1])\n",
    "y_true = test[:, -1]\n",
    "accuracy_score(y_true, y_pred)"
   ]
  },
  {
   "cell_type": "code",
   "execution_count": 6,
   "metadata": {},
   "outputs": [
    {
     "data": {
      "text/plain": [
       "{'cv': None,\n",
       " 'error_score': nan,\n",
       " 'estimator__memory': None,\n",
       " 'estimator__steps': [('standardscaler', StandardScaler()),\n",
       "  ('svc', SVC(gamma='auto'))],\n",
       " 'estimator__verbose': False,\n",
       " 'estimator__standardscaler': StandardScaler(),\n",
       " 'estimator__svc': SVC(gamma='auto'),\n",
       " 'estimator__standardscaler__copy': True,\n",
       " 'estimator__standardscaler__with_mean': True,\n",
       " 'estimator__standardscaler__with_std': True,\n",
       " 'estimator__svc__C': 1.0,\n",
       " 'estimator__svc__break_ties': False,\n",
       " 'estimator__svc__cache_size': 200,\n",
       " 'estimator__svc__class_weight': None,\n",
       " 'estimator__svc__coef0': 0.0,\n",
       " 'estimator__svc__decision_function_shape': 'ovr',\n",
       " 'estimator__svc__degree': 3,\n",
       " 'estimator__svc__gamma': 'auto',\n",
       " 'estimator__svc__kernel': 'rbf',\n",
       " 'estimator__svc__max_iter': -1,\n",
       " 'estimator__svc__probability': False,\n",
       " 'estimator__svc__random_state': None,\n",
       " 'estimator__svc__shrinking': True,\n",
       " 'estimator__svc__tol': 0.001,\n",
       " 'estimator__svc__verbose': False,\n",
       " 'estimator': Pipeline(steps=[('standardscaler', StandardScaler()),\n",
       "                 ('svc', SVC(gamma='auto'))]),\n",
       " 'n_jobs': None,\n",
       " 'param_grid': {'svc__kernel': ('linear', 'rbf', 'poly', 'sigmoid'),\n",
       "  'svc__C': [0.001, 0.01, 0.1, 1, 10]},\n",
       " 'pre_dispatch': '2*n_jobs',\n",
       " 'refit': True,\n",
       " 'return_train_score': False,\n",
       " 'scoring': None,\n",
       " 'verbose': 0}"
      ]
     },
     "execution_count": 6,
     "metadata": {},
     "output_type": "execute_result"
    }
   ],
   "source": [
    "clf.get_params()"
   ]
  },
  {
   "cell_type": "markdown",
   "metadata": {},
   "source": [
    "We have already been able to increase the accuracy from 88 to 95 percent using GridSearch. Now we try to improve the performance even more. Above we can see the \"optimal\" values. Using the determined best kernel \"rbf\", we do grid search again, around the \"optimal\" value for C, 1.0 ."
   ]
  },
  {
   "cell_type": "code",
   "execution_count": 7,
   "metadata": {},
   "outputs": [
    {
     "data": {
      "text/plain": [
       "0.9401993355481728"
      ]
     },
     "execution_count": 7,
     "metadata": {},
     "output_type": "execute_result"
    }
   ],
   "source": [
    "parameters = {\"svc__C\": [0.1,0.5,0.7, 1,1.2,1.5,2, 2.5, 3, 3.5, 4,5,7]}\n",
    "pipeline = make_pipeline(StandardScaler(), SVC(kernel='rbf', gamma='auto', probability = True))\n",
    "clf = GridSearchCV(estimator=pipeline, param_grid=parameters)\n",
    "clf.fit(train[:, :-1], train[:, -1])\n",
    "y_pred = clf.predict(test[:, :-1])\n",
    "y_true = test[:, -1]\n",
    "accuracy_score(y_true, y_pred)"
   ]
  },
  {
   "cell_type": "code",
   "execution_count": 8,
   "metadata": {},
   "outputs": [
    {
     "data": {
      "text/plain": [
       "{'cv': None,\n",
       " 'error_score': nan,\n",
       " 'estimator__memory': None,\n",
       " 'estimator__steps': [('standardscaler', StandardScaler()),\n",
       "  ('svc', SVC(gamma='auto', probability=True))],\n",
       " 'estimator__verbose': False,\n",
       " 'estimator__standardscaler': StandardScaler(),\n",
       " 'estimator__svc': SVC(gamma='auto', probability=True),\n",
       " 'estimator__standardscaler__copy': True,\n",
       " 'estimator__standardscaler__with_mean': True,\n",
       " 'estimator__standardscaler__with_std': True,\n",
       " 'estimator__svc__C': 1.0,\n",
       " 'estimator__svc__break_ties': False,\n",
       " 'estimator__svc__cache_size': 200,\n",
       " 'estimator__svc__class_weight': None,\n",
       " 'estimator__svc__coef0': 0.0,\n",
       " 'estimator__svc__decision_function_shape': 'ovr',\n",
       " 'estimator__svc__degree': 3,\n",
       " 'estimator__svc__gamma': 'auto',\n",
       " 'estimator__svc__kernel': 'rbf',\n",
       " 'estimator__svc__max_iter': -1,\n",
       " 'estimator__svc__probability': True,\n",
       " 'estimator__svc__random_state': None,\n",
       " 'estimator__svc__shrinking': True,\n",
       " 'estimator__svc__tol': 0.001,\n",
       " 'estimator__svc__verbose': False,\n",
       " 'estimator': Pipeline(steps=[('standardscaler', StandardScaler()),\n",
       "                 ('svc', SVC(gamma='auto', probability=True))]),\n",
       " 'n_jobs': None,\n",
       " 'param_grid': {'svc__C': [0.1,\n",
       "   0.5,\n",
       "   0.7,\n",
       "   1,\n",
       "   1.2,\n",
       "   1.5,\n",
       "   2,\n",
       "   2.5,\n",
       "   3,\n",
       "   3.5,\n",
       "   4,\n",
       "   5,\n",
       "   7]},\n",
       " 'pre_dispatch': '2*n_jobs',\n",
       " 'refit': True,\n",
       " 'return_train_score': False,\n",
       " 'scoring': None,\n",
       " 'verbose': 0}"
      ]
     },
     "execution_count": 8,
     "metadata": {},
     "output_type": "execute_result"
    }
   ],
   "source": [
    "clf.get_params()"
   ]
  },
  {
   "cell_type": "code",
   "execution_count": 11,
   "metadata": {},
   "outputs": [],
   "source": [
    "from sklearn.model_selection import StratifiedKFold\n",
    "from sklearn.model_selection import RepeatedStratifiedKFold\n",
    "from sklearn.model_selection import GridSearchCV\n",
    "from sklearn.model_selection import cross_val_predict\n",
    "from sklearn.preprocessing import StandardScaler\n",
    "from sklearn import metrics\n",
    "from sklearn.model_selection import cross_val_score\n",
    "\n",
    "x_data = test[:, :-1]\n",
    "y_data = test[:, -1]\n",
    "\n",
    "#standard scaling the data\n",
    "standardscaler = StandardScaler()\n",
    "x_data = standardscaler.fit_transform(x_data)\n",
    "\n",
    "###---##---###  Nested CV & AUC\n",
    "inner_cv = StratifiedKFold(n_splits=5, shuffle=True, random_state=42)\n",
    "outer_cv = StratifiedKFold(n_splits=10, shuffle = True, random_state = 42)\n",
    "\n",
    "# Nested CV with parameter optimization\n",
    "clf = GridSearchCV(estimator=pipeline, param_grid=parameters, cv=inner_cv, scoring='roc_auc')\n",
    "\n",
    "# Making predictions\n",
    "predictions = cross_val_predict(clf, X = x_data, y = y_data, cv\n",
    "= outer_cv, method = 'predict_proba', n_jobs = -1)"
   ]
  },
  {
   "cell_type": "code",
   "execution_count": 12,
   "metadata": {},
   "outputs": [
    {
     "name": "stdout",
     "output_type": "stream",
     "text": [
      "0.9443146706216783 0.03884312523728886\n"
     ]
    }
   ],
   "source": [
    "nested_score_autoencoder = cross_val_score(clf, X=x_data, y=y_data, cv=outer_cv, scoring='roc_auc')\n",
    "print(nested_score_autoencoder.mean(), nested_score_autoencoder.std())"
   ]
  },
  {
   "cell_type": "code",
   "execution_count": 13,
   "metadata": {},
   "outputs": [
    {
     "data": {
      "image/png": "[encoded data removed]",
      "text/plain": [
       "<Figure size 600x600 with 1 Axes>"
      ]
     },
     "metadata": {},
     "output_type": "display_data"
    }
   ],
   "source": [
    "#keep only positive probabilities\n",
    "predictions = predictions[:,1]\n",
    "\n",
    "#calculating the ROC curves\n",
    "fpr, tpr, _ = metrics.roc_curve(y_data, predictions)\n",
    "\n",
    "#calculating the AUC's\n",
    "auc = metrics.auc(fpr, tpr)\n",
    "\n",
    "#sklearn.metrics.roc_curve(y_true, y_score, *, pos_label=None, sample_weight=None, drop_intermediate=True)\n",
    "import matplotlib.pyplot as plt\n",
    "from sklearn.metrics import RocCurveDisplay\n",
    "\n",
    "fig, ax = plt.subplots(figsize=(6, 6))\n",
    "\n",
    "\n",
    "#fpr_autoencoder, tpr_autoencoder, _ =\n",
    "roc = RocCurveDisplay(fpr = fpr, \n",
    "                                  tpr = tpr, \n",
    "                                  roc_auc= auc, \n",
    "                                  estimator_name=\"Real vs. Simulated Spectra classifier\")\n",
    "\n",
    "roc.plot(color=\"red\", ax=ax)\n",
    "\n",
    "plt.plot([0, 1], [0, 1], \"k--\", label=\"chance level\")\n",
    "plt.axis(\"square\")\n",
    "plt.xlabel(\"False Positive Rate\")\n",
    "plt.ylabel(\"True Positive Rate\")\n",
    "plt.title(\"Receiver operating characteristics\")\n",
    "plt.legend()\n",
    "plt.show()\n"
   ]
  },
  {
   "cell_type": "code",
   "execution_count": null,
   "metadata": {},
   "outputs": [],
   "source": []
  },
  {
   "cell_type": "code",
   "execution_count": null,
   "metadata": {},
   "outputs": [],
   "source": []
  }
 ],
 "metadata": {
  "kernelspec": {
   "display_name": "Python 3 (ipykernel)",
   "language": "python",
   "name": "python3"
  },
  "language_info": {
   "codemirror_mode": {
    "name": "ipython",
    "version": 3
   },
   "file_extension": ".py",
   "mimetype": "text/x-python",
   "name": "python",
   "nbconvert_exporter": "python",
   "pygments_lexer": "ipython3",
   "version": "3.9.13"
  }
 },
 "nbformat": 4,
 "nbformat_minor": 2
}
